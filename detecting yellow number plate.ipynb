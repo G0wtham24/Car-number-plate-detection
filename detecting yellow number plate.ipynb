{
 "cells": [
  {
   "cell_type": "code",
   "execution_count": 1,
   "id": "4efc85f1",
   "metadata": {},
   "outputs": [],
   "source": [
    "import cv2\n",
    "import os\n",
    "import numpy as np"
   ]
  },
  {
   "cell_type": "code",
   "execution_count": 4,
   "id": "1f62b0c9",
   "metadata": {},
   "outputs": [],
   "source": [
    "def detect_yellow_plate(image):\n",
    "    yellow_plate_count = 0\n",
    "    \n",
    "    # Convert the image to HSV color space for better color-based detection\n",
    "    hsv_image = cv2.cvtColor(image, cv2.COLOR_BGR2HSV)\n",
    "    \n",
    "    # Define the lower and upper bounds of yellow color in HSV\n",
    "    lower_yellow = (20, 100, 100)\n",
    "    upper_yellow = (50, 255, 255)\n",
    "    \n",
    "    # Create a mask to identify yellow regions\n",
    "    yellow_mask = cv2.inRange(hsv_image, lower_yellow, upper_yellow)\n",
    "    \n",
    "    # Find contours in the mask\n",
    "    contours, _ = cv2.findContours(yellow_mask, cv2.RETR_EXTERNAL, cv2.CHAIN_APPROX_SIMPLE)\n",
    "    \n",
    "    for contour in contours:\n",
    "        # Calculate the contour area and filter out small regions\n",
    "        area = cv2.contourArea(contour)\n",
    "        if area > threshold_area:\n",
    "            yellow_plate_count += 1\n",
    "            \n",
    "           \n",
    "    return yellow_plate_count, image"
   ]
  },
  {
   "cell_type": "code",
   "execution_count": 10,
   "id": "03768dff",
   "metadata": {},
   "outputs": [
    {
     "name": "stdout",
     "output_type": "stream",
     "text": [
      "Total Yellow Plates Detected: 68\n"
     ]
    }
   ],
   "source": [
    "if __name__ == \"__main__\":\n",
    "    dataset_path = \"C:\\\\Users\\\\Gowtham Gowda\\\\extracted\\\\set\"\n",
    "    threshold_area = 1800\n",
    "    # Adjust this threshold as needed\n",
    "    \n",
    "    total_yellow_plate_count = 0\n",
    "    \n",
    "    for i in range(1, 137):\n",
    "        image_path = f\"{dataset_path}/{i}.jpg\"\n",
    "        image = cv2.imread(image_path)\n",
    "        \n",
    "        yellow_plate_count, annotated_image = detect_yellow_plate(image)\n",
    "        total_yellow_plate_count += yellow_plate_count\n",
    "        \n",
    "        cv2.imwrite(f\"annotated_{i}.jpg\", annotated_image)\n",
    "    \n",
    "    print(\"Total Yellow Plates Detected:\", total_yellow_plate_count)"
   ]
  },
  {
   "cell_type": "code",
   "execution_count": null,
   "id": "a5edb0ea",
   "metadata": {},
   "outputs": [],
   "source": []
  }
 ],
 "metadata": {
  "kernelspec": {
   "display_name": "Python 3 (ipykernel)",
   "language": "python",
   "name": "python3"
  },
  "language_info": {
   "codemirror_mode": {
    "name": "ipython",
    "version": 3
   },
   "file_extension": ".py",
   "mimetype": "text/x-python",
   "name": "python",
   "nbconvert_exporter": "python",
   "pygments_lexer": "ipython3",
   "version": "3.10.9"
  }
 },
 "nbformat": 4,
 "nbformat_minor": 5
}
